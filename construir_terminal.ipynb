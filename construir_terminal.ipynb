{
 "cells": [
  {
   "cell_type": "code",
   "execution_count": 12,
   "metadata": {},
   "outputs": [],
   "source": [
    "import pandas as pd"
   ]
  },
  {
   "cell_type": "code",
   "execution_count": 13,
   "metadata": {},
   "outputs": [],
   "source": [
    "df = pd.read_csv(\"wfp_food_prices_gtm.csv\")\n",
    "df.drop(0, inplace=True)\n",
    "df = df[df.market == \"La Terminal\"]\n",
    "df[\"filtro\"] = df.unit.map(lambda x: \"KG\" in x or \"Pounds\" in x)\n",
    "df = df[df.filtro]\n",
    "df.rename(columns={\"price\": \"gtqprice\"}, inplace=True)\n",
    "feat = [\"date\", \"category\", \"commodity\", \"unit\", \"pricetype\", \"gtqprice\", \"usdprice\"]\n",
    "df = df[feat]"
   ]
  },
  {
   "cell_type": "code",
   "execution_count": 14,
   "metadata": {},
   "outputs": [
    {
     "data": {
      "text/html": [
       "<div>\n",
       "<style scoped>\n",
       "    .dataframe tbody tr th:only-of-type {\n",
       "        vertical-align: middle;\n",
       "    }\n",
       "\n",
       "    .dataframe tbody tr th {\n",
       "        vertical-align: top;\n",
       "    }\n",
       "\n",
       "    .dataframe thead th {\n",
       "        text-align: right;\n",
       "    }\n",
       "</style>\n",
       "<table border=\"1\" class=\"dataframe\">\n",
       "  <thead>\n",
       "    <tr style=\"text-align: right;\">\n",
       "      <th></th>\n",
       "      <th>date</th>\n",
       "      <th>category</th>\n",
       "      <th>commodity</th>\n",
       "      <th>unit</th>\n",
       "      <th>pricetype</th>\n",
       "      <th>gtqprice</th>\n",
       "      <th>usdprice</th>\n",
       "    </tr>\n",
       "  </thead>\n",
       "  <tbody>\n",
       "    <tr>\n",
       "      <th>1</th>\n",
       "      <td>1998-01-15</td>\n",
       "      <td>cereals and tubers</td>\n",
       "      <td>Maize (white)</td>\n",
       "      <td>100 Pounds</td>\n",
       "      <td>Wholesale</td>\n",
       "      <td>67.75</td>\n",
       "      <td>10.8923</td>\n",
       "    </tr>\n",
       "    <tr>\n",
       "      <th>2</th>\n",
       "      <td>1998-01-15</td>\n",
       "      <td>cereals and tubers</td>\n",
       "      <td>Maize (yellow)</td>\n",
       "      <td>100 Pounds</td>\n",
       "      <td>Wholesale</td>\n",
       "      <td>77.36</td>\n",
       "      <td>12.4373</td>\n",
       "    </tr>\n",
       "    <tr>\n",
       "      <th>3</th>\n",
       "      <td>1998-01-15</td>\n",
       "      <td>cereals and tubers</td>\n",
       "      <td>Potatoes</td>\n",
       "      <td>100 Pounds</td>\n",
       "      <td>Wholesale</td>\n",
       "      <td>129.17</td>\n",
       "      <td>20.7669</td>\n",
       "    </tr>\n",
       "    <tr>\n",
       "      <th>4</th>\n",
       "      <td>1998-01-15</td>\n",
       "      <td>cereals and tubers</td>\n",
       "      <td>Rice (medium quality)</td>\n",
       "      <td>100 Pounds</td>\n",
       "      <td>Wholesale</td>\n",
       "      <td>178.75</td>\n",
       "      <td>28.7379</td>\n",
       "    </tr>\n",
       "    <tr>\n",
       "      <th>5</th>\n",
       "      <td>1998-01-15</td>\n",
       "      <td>cereals and tubers</td>\n",
       "      <td>Sorghum</td>\n",
       "      <td>100 Pounds</td>\n",
       "      <td>Wholesale</td>\n",
       "      <td>53.75</td>\n",
       "      <td>8.6415</td>\n",
       "    </tr>\n",
       "  </tbody>\n",
       "</table>\n",
       "</div>"
      ],
      "text/plain": [
       "         date            category              commodity        unit  \\\n",
       "1  1998-01-15  cereals and tubers          Maize (white)  100 Pounds   \n",
       "2  1998-01-15  cereals and tubers         Maize (yellow)  100 Pounds   \n",
       "3  1998-01-15  cereals and tubers               Potatoes  100 Pounds   \n",
       "4  1998-01-15  cereals and tubers  Rice (medium quality)  100 Pounds   \n",
       "5  1998-01-15  cereals and tubers                Sorghum  100 Pounds   \n",
       "\n",
       "   pricetype gtqprice usdprice  \n",
       "1  Wholesale    67.75  10.8923  \n",
       "2  Wholesale    77.36  12.4373  \n",
       "3  Wholesale   129.17  20.7669  \n",
       "4  Wholesale   178.75  28.7379  \n",
       "5  Wholesale    53.75   8.6415  "
      ]
     },
     "execution_count": 14,
     "metadata": {},
     "output_type": "execute_result"
    }
   ],
   "source": [
    "df.head()"
   ]
  },
  {
   "cell_type": "code",
   "execution_count": 15,
   "metadata": {},
   "outputs": [
    {
     "data": {
      "text/plain": [
       "(8002, 7)"
      ]
     },
     "execution_count": 15,
     "metadata": {},
     "output_type": "execute_result"
    }
   ],
   "source": [
    "df.shape"
   ]
  },
  {
   "cell_type": "code",
   "execution_count": 16,
   "metadata": {},
   "outputs": [],
   "source": [
    "df.to_csv(\"precios_terminal.csv\", index=False)"
   ]
  },
  {
   "cell_type": "code",
   "execution_count": null,
   "metadata": {},
   "outputs": [],
   "source": []
  }
 ],
 "metadata": {
  "kernelspec": {
   "display_name": "mineria",
   "language": "python",
   "name": "python3"
  },
  "language_info": {
   "codemirror_mode": {
    "name": "ipython",
    "version": 3
   },
   "file_extension": ".py",
   "mimetype": "text/x-python",
   "name": "python",
   "nbconvert_exporter": "python",
   "pygments_lexer": "ipython3",
   "version": "3.10.13"
  }
 },
 "nbformat": 4,
 "nbformat_minor": 2
}
