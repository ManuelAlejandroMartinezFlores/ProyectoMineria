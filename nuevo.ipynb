{
 "cells": [
  {
   "cell_type": "code",
   "execution_count": 1,
   "metadata": {},
   "outputs": [],
   "source": [
    "import pandas as pd"
   ]
  },
  {
   "cell_type": "code",
   "execution_count": 23,
   "metadata": {},
   "outputs": [
    {
     "data": {
      "text/plain": [
       "(247260, 7)"
      ]
     },
     "execution_count": 23,
     "metadata": {},
     "output_type": "execute_result"
    }
   ],
   "source": [
    "df = pd.read_csv(\"gtm-ndvi-adm2-full.csv\")\n",
    "df.shape"
   ]
  },
  {
   "cell_type": "code",
   "execution_count": 6,
   "metadata": {},
   "outputs": [
    {
     "data": {
      "text/html": [
       "<div>\n",
       "<style scoped>\n",
       "    .dataframe tbody tr th:only-of-type {\n",
       "        vertical-align: middle;\n",
       "    }\n",
       "\n",
       "    .dataframe tbody tr th {\n",
       "        vertical-align: top;\n",
       "    }\n",
       "\n",
       "    .dataframe thead th {\n",
       "        text-align: right;\n",
       "    }\n",
       "</style>\n",
       "<table border=\"1\" class=\"dataframe\">\n",
       "  <thead>\n",
       "    <tr style=\"text-align: right;\">\n",
       "      <th></th>\n",
       "      <th>date</th>\n",
       "      <th>adm2_id</th>\n",
       "      <th>ADM2_PCODE</th>\n",
       "      <th>n_pixels</th>\n",
       "      <th>vim</th>\n",
       "      <th>vim_avg</th>\n",
       "      <th>viq</th>\n",
       "    </tr>\n",
       "  </thead>\n",
       "  <tbody>\n",
       "    <tr>\n",
       "      <th>0</th>\n",
       "      <td>2002-07-01</td>\n",
       "      <td>65298</td>\n",
       "      <td>GT1802</td>\n",
       "      <td>5.0</td>\n",
       "      <td>0.7442</td>\n",
       "      <td>0.7380</td>\n",
       "      <td>100.7902</td>\n",
       "    </tr>\n",
       "    <tr>\n",
       "      <th>1</th>\n",
       "      <td>2002-07-11</td>\n",
       "      <td>65298</td>\n",
       "      <td>GT1802</td>\n",
       "      <td>5.0</td>\n",
       "      <td>0.7446</td>\n",
       "      <td>0.7394</td>\n",
       "      <td>100.6574</td>\n",
       "    </tr>\n",
       "    <tr>\n",
       "      <th>2</th>\n",
       "      <td>2002-07-21</td>\n",
       "      <td>65298</td>\n",
       "      <td>GT1802</td>\n",
       "      <td>5.0</td>\n",
       "      <td>0.7452</td>\n",
       "      <td>0.7423</td>\n",
       "      <td>100.3636</td>\n",
       "    </tr>\n",
       "    <tr>\n",
       "      <th>3</th>\n",
       "      <td>2002-08-01</td>\n",
       "      <td>65298</td>\n",
       "      <td>GT1802</td>\n",
       "      <td>5.0</td>\n",
       "      <td>0.7461</td>\n",
       "      <td>0.7456</td>\n",
       "      <td>100.0641</td>\n",
       "    </tr>\n",
       "    <tr>\n",
       "      <th>4</th>\n",
       "      <td>2002-08-11</td>\n",
       "      <td>65298</td>\n",
       "      <td>GT1802</td>\n",
       "      <td>5.0</td>\n",
       "      <td>0.7476</td>\n",
       "      <td>0.7490</td>\n",
       "      <td>99.8260</td>\n",
       "    </tr>\n",
       "  </tbody>\n",
       "</table>\n",
       "</div>"
      ],
      "text/plain": [
       "         date  adm2_id ADM2_PCODE  n_pixels     vim  vim_avg       viq\n",
       "0  2002-07-01    65298     GT1802       5.0  0.7442   0.7380  100.7902\n",
       "1  2002-07-11    65298     GT1802       5.0  0.7446   0.7394  100.6574\n",
       "2  2002-07-21    65298     GT1802       5.0  0.7452   0.7423  100.3636\n",
       "3  2002-08-01    65298     GT1802       5.0  0.7461   0.7456  100.0641\n",
       "4  2002-08-11    65298     GT1802       5.0  0.7476   0.7490   99.8260"
      ]
     },
     "execution_count": 6,
     "metadata": {},
     "output_type": "execute_result"
    }
   ],
   "source": [
    "df.head()"
   ]
  },
  {
   "cell_type": "code",
   "execution_count": 9,
   "metadata": {},
   "outputs": [
    {
     "data": {
      "text/plain": [
       "array([  5.,  20.,  37.,   1.,   2.,   7.,   6.,  19.,  22.,  10.,   4.,\n",
       "        11.,  14.,  18.,   8.,  15.,   3.,   9.,  12.,  13.,  26.,  16.,\n",
       "        17.,  23.,  25.,  76.,  45.,  30.,  21.,  44.,  33.,  51.,  78.,\n",
       "        43.,  41., 119.,  64., 275., 229.,  65.,  83., 104.,  82.,  80.,\n",
       "        29.,  31.])"
      ]
     },
     "execution_count": 9,
     "metadata": {},
     "output_type": "execute_result"
    }
   ],
   "source": [
    "df.n_pixels.unique()"
   ]
  },
  {
   "cell_type": "code",
   "execution_count": 26,
   "metadata": {},
   "outputs": [
    {
     "data": {
      "text/plain": [
       "315"
      ]
     },
     "execution_count": 26,
     "metadata": {},
     "output_type": "execute_result"
    }
   ],
   "source": [
    "a = df.ADM2_PCODE.unique()\n",
    "len(a)"
   ]
  },
  {
   "cell_type": "code",
   "execution_count": 17,
   "metadata": {},
   "outputs": [
    {
     "data": {
      "text/plain": [
       "32"
      ]
     },
     "execution_count": 17,
     "metadata": {},
     "output_type": "execute_result"
    }
   ],
   "source": [
    "max([int(x[4:6]) for x in a])"
   ]
  },
  {
   "cell_type": "code",
   "execution_count": 35,
   "metadata": {},
   "outputs": [
    {
     "data": {
      "text/html": [
       "<div>\n",
       "<style scoped>\n",
       "    .dataframe tbody tr th:only-of-type {\n",
       "        vertical-align: middle;\n",
       "    }\n",
       "\n",
       "    .dataframe tbody tr th {\n",
       "        vertical-align: top;\n",
       "    }\n",
       "\n",
       "    .dataframe thead th {\n",
       "        text-align: right;\n",
       "    }\n",
       "</style>\n",
       "<table border=\"1\" class=\"dataframe\">\n",
       "  <thead>\n",
       "    <tr style=\"text-align: right;\">\n",
       "      <th></th>\n",
       "      <th>ADM0_ES</th>\n",
       "      <th>ADM0_PCODE</th>\n",
       "      <th>ADM1_ES</th>\n",
       "      <th>ADM1_PCODE</th>\n",
       "      <th>ADM2_ES</th>\n",
       "      <th>ADM2_PCODE</th>\n",
       "      <th>ADM2_REF</th>\n",
       "      <th>ADM2ALT1ES</th>\n",
       "      <th>ADM2ALT2ES</th>\n",
       "      <th>x</th>\n",
       "      <th>y</th>\n",
       "    </tr>\n",
       "  </thead>\n",
       "  <tbody>\n",
       "    <tr>\n",
       "      <th>0</th>\n",
       "      <td>Guatemala</td>\n",
       "      <td>GT</td>\n",
       "      <td>Chimaltenango</td>\n",
       "      <td>GT04</td>\n",
       "      <td>Acatenango</td>\n",
       "      <td>GT0411</td>\n",
       "      <td>Acatenango</td>\n",
       "      <td>NaN</td>\n",
       "      <td>NaN</td>\n",
       "      <td>-90.956307</td>\n",
       "      <td>14.547826</td>\n",
       "    </tr>\n",
       "    <tr>\n",
       "      <th>1</th>\n",
       "      <td>Guatemala</td>\n",
       "      <td>GT</td>\n",
       "      <td>Jutiapa</td>\n",
       "      <td>GT22</td>\n",
       "      <td>Agua Blanca</td>\n",
       "      <td>GT2204</td>\n",
       "      <td>Agua Blanca</td>\n",
       "      <td>NaN</td>\n",
       "      <td>NaN</td>\n",
       "      <td>-89.599949</td>\n",
       "      <td>14.458206</td>\n",
       "    </tr>\n",
       "    <tr>\n",
       "      <th>2</th>\n",
       "      <td>Guatemala</td>\n",
       "      <td>GT</td>\n",
       "      <td>Huehuetenango</td>\n",
       "      <td>GT13</td>\n",
       "      <td>Aguacatán</td>\n",
       "      <td>GT1327</td>\n",
       "      <td>Aguacatan</td>\n",
       "      <td>NaN</td>\n",
       "      <td>NaN</td>\n",
       "      <td>-91.213843</td>\n",
       "      <td>15.333277</td>\n",
       "    </tr>\n",
       "    <tr>\n",
       "      <th>3</th>\n",
       "      <td>Guatemala</td>\n",
       "      <td>GT</td>\n",
       "      <td>Quetzaltenango</td>\n",
       "      <td>GT09</td>\n",
       "      <td>Almolonga</td>\n",
       "      <td>GT0913</td>\n",
       "      <td>Almolonga</td>\n",
       "      <td>NaN</td>\n",
       "      <td>NaN</td>\n",
       "      <td>-91.484486</td>\n",
       "      <td>14.811737</td>\n",
       "    </tr>\n",
       "    <tr>\n",
       "      <th>4</th>\n",
       "      <td>Guatemala</td>\n",
       "      <td>GT</td>\n",
       "      <td>Sacatepéquez</td>\n",
       "      <td>GT03</td>\n",
       "      <td>Alotenango</td>\n",
       "      <td>GT0314</td>\n",
       "      <td>Alotenango</td>\n",
       "      <td>NaN</td>\n",
       "      <td>NaN</td>\n",
       "      <td>-90.819675</td>\n",
       "      <td>14.459525</td>\n",
       "    </tr>\n",
       "  </tbody>\n",
       "</table>\n",
       "</div>"
      ],
      "text/plain": [
       "     ADM0_ES ADM0_PCODE         ADM1_ES ADM1_PCODE      ADM2_ES ADM2_PCODE  \\\n",
       "0  Guatemala         GT   Chimaltenango       GT04   Acatenango     GT0411   \n",
       "1  Guatemala         GT         Jutiapa       GT22  Agua Blanca     GT2204   \n",
       "2  Guatemala         GT   Huehuetenango       GT13    Aguacatán     GT1327   \n",
       "3  Guatemala         GT  Quetzaltenango       GT09    Almolonga     GT0913   \n",
       "4  Guatemala         GT    Sacatepéquez       GT03   Alotenango     GT0314   \n",
       "\n",
       "      ADM2_REF  ADM2ALT1ES  ADM2ALT2ES          x          y  \n",
       "0   Acatenango         NaN         NaN -90.956307  14.547826  \n",
       "1  Agua Blanca         NaN         NaN -89.599949  14.458206  \n",
       "2    Aguacatan         NaN         NaN -91.213843  15.333277  \n",
       "3    Almolonga         NaN         NaN -91.484486  14.811737  \n",
       "4   Alotenango         NaN         NaN -90.819675  14.459525  "
      ]
     },
     "execution_count": 35,
     "metadata": {},
     "output_type": "execute_result"
    }
   ],
   "source": [
    "c = pd.read_csv(\"guatemala_lat_lon.csv\")\n",
    "c.head()"
   ]
  },
  {
   "cell_type": "code",
   "execution_count": 47,
   "metadata": {},
   "outputs": [
    {
     "data": {
      "text/html": [
       "<div>\n",
       "<style scoped>\n",
       "    .dataframe tbody tr th:only-of-type {\n",
       "        vertical-align: middle;\n",
       "    }\n",
       "\n",
       "    .dataframe tbody tr th {\n",
       "        vertical-align: top;\n",
       "    }\n",
       "\n",
       "    .dataframe thead th {\n",
       "        text-align: right;\n",
       "    }\n",
       "</style>\n",
       "<table border=\"1\" class=\"dataframe\">\n",
       "  <thead>\n",
       "    <tr style=\"text-align: right;\">\n",
       "      <th></th>\n",
       "      <th>ADM2_PCODE</th>\n",
       "      <th>epartamento</th>\n",
       "      <th>municipio</th>\n",
       "      <th>lat</th>\n",
       "      <th>lon</th>\n",
       "    </tr>\n",
       "  </thead>\n",
       "  <tbody>\n",
       "    <tr>\n",
       "      <th>0</th>\n",
       "      <td>GT0411</td>\n",
       "      <td>Chimaltenango</td>\n",
       "      <td>Acatenango</td>\n",
       "      <td>-90.956307</td>\n",
       "      <td>14.547826</td>\n",
       "    </tr>\n",
       "    <tr>\n",
       "      <th>1</th>\n",
       "      <td>GT2204</td>\n",
       "      <td>Jutiapa</td>\n",
       "      <td>Agua Blanca</td>\n",
       "      <td>-89.599949</td>\n",
       "      <td>14.458206</td>\n",
       "    </tr>\n",
       "    <tr>\n",
       "      <th>2</th>\n",
       "      <td>GT1327</td>\n",
       "      <td>Huehuetenango</td>\n",
       "      <td>Aguacatán</td>\n",
       "      <td>-91.213843</td>\n",
       "      <td>15.333277</td>\n",
       "    </tr>\n",
       "    <tr>\n",
       "      <th>3</th>\n",
       "      <td>GT0913</td>\n",
       "      <td>Quetzaltenango</td>\n",
       "      <td>Almolonga</td>\n",
       "      <td>-91.484486</td>\n",
       "      <td>14.811737</td>\n",
       "    </tr>\n",
       "    <tr>\n",
       "      <th>4</th>\n",
       "      <td>GT0314</td>\n",
       "      <td>Sacatepéquez</td>\n",
       "      <td>Alotenango</td>\n",
       "      <td>-90.819675</td>\n",
       "      <td>14.459525</td>\n",
       "    </tr>\n",
       "  </tbody>\n",
       "</table>\n",
       "</div>"
      ],
      "text/plain": [
       "  ADM2_PCODE     epartamento    municipio        lat        lon\n",
       "0     GT0411   Chimaltenango   Acatenango -90.956307  14.547826\n",
       "1     GT2204         Jutiapa  Agua Blanca -89.599949  14.458206\n",
       "2     GT1327   Huehuetenango    Aguacatán -91.213843  15.333277\n",
       "3     GT0913  Quetzaltenango    Almolonga -91.484486  14.811737\n",
       "4     GT0314    Sacatepéquez   Alotenango -90.819675  14.459525"
      ]
     },
     "execution_count": 47,
     "metadata": {},
     "output_type": "execute_result"
    }
   ],
   "source": [
    "c = c[[\"ADM2_PCODE\", \"ADM1_ES\", \"ADM2_ES\", \"x\", \"y\"]]\n",
    "c.rename(columns={\"ADM1_ES\": \"epartamento\", \"ADM2_ES\": \"municipio\", \"x\":\"lat\", \"y\": \"lon\"}, inplace=True)\n",
    "c.head()"
   ]
  },
  {
   "cell_type": "code",
   "execution_count": 48,
   "metadata": {},
   "outputs": [
    {
     "data": {
      "text/html": [
       "<div>\n",
       "<style scoped>\n",
       "    .dataframe tbody tr th:only-of-type {\n",
       "        vertical-align: middle;\n",
       "    }\n",
       "\n",
       "    .dataframe tbody tr th {\n",
       "        vertical-align: top;\n",
       "    }\n",
       "\n",
       "    .dataframe thead th {\n",
       "        text-align: right;\n",
       "    }\n",
       "</style>\n",
       "<table border=\"1\" class=\"dataframe\">\n",
       "  <thead>\n",
       "    <tr style=\"text-align: right;\">\n",
       "      <th></th>\n",
       "      <th>date</th>\n",
       "      <th>adm2_id</th>\n",
       "      <th>ADM2_PCODE</th>\n",
       "      <th>n_pixels</th>\n",
       "      <th>vim</th>\n",
       "      <th>vim_avg</th>\n",
       "      <th>viq</th>\n",
       "      <th>epartamento</th>\n",
       "      <th>municipio</th>\n",
       "      <th>lat</th>\n",
       "      <th>lon</th>\n",
       "    </tr>\n",
       "  </thead>\n",
       "  <tbody>\n",
       "    <tr>\n",
       "      <th>0</th>\n",
       "      <td>2002-07-01</td>\n",
       "      <td>65298</td>\n",
       "      <td>GT1802</td>\n",
       "      <td>5.0</td>\n",
       "      <td>0.7442</td>\n",
       "      <td>0.7380</td>\n",
       "      <td>100.7902</td>\n",
       "      <td>Izabal</td>\n",
       "      <td>Lívingston</td>\n",
       "      <td>-89.151105</td>\n",
       "      <td>15.777356</td>\n",
       "    </tr>\n",
       "    <tr>\n",
       "      <th>1</th>\n",
       "      <td>2002-07-11</td>\n",
       "      <td>65298</td>\n",
       "      <td>GT1802</td>\n",
       "      <td>5.0</td>\n",
       "      <td>0.7446</td>\n",
       "      <td>0.7394</td>\n",
       "      <td>100.6574</td>\n",
       "      <td>Izabal</td>\n",
       "      <td>Lívingston</td>\n",
       "      <td>-89.151105</td>\n",
       "      <td>15.777356</td>\n",
       "    </tr>\n",
       "    <tr>\n",
       "      <th>2</th>\n",
       "      <td>2002-07-21</td>\n",
       "      <td>65298</td>\n",
       "      <td>GT1802</td>\n",
       "      <td>5.0</td>\n",
       "      <td>0.7452</td>\n",
       "      <td>0.7423</td>\n",
       "      <td>100.3636</td>\n",
       "      <td>Izabal</td>\n",
       "      <td>Lívingston</td>\n",
       "      <td>-89.151105</td>\n",
       "      <td>15.777356</td>\n",
       "    </tr>\n",
       "    <tr>\n",
       "      <th>3</th>\n",
       "      <td>2002-08-01</td>\n",
       "      <td>65298</td>\n",
       "      <td>GT1802</td>\n",
       "      <td>5.0</td>\n",
       "      <td>0.7461</td>\n",
       "      <td>0.7456</td>\n",
       "      <td>100.0641</td>\n",
       "      <td>Izabal</td>\n",
       "      <td>Lívingston</td>\n",
       "      <td>-89.151105</td>\n",
       "      <td>15.777356</td>\n",
       "    </tr>\n",
       "    <tr>\n",
       "      <th>4</th>\n",
       "      <td>2002-08-11</td>\n",
       "      <td>65298</td>\n",
       "      <td>GT1802</td>\n",
       "      <td>5.0</td>\n",
       "      <td>0.7476</td>\n",
       "      <td>0.7490</td>\n",
       "      <td>99.8260</td>\n",
       "      <td>Izabal</td>\n",
       "      <td>Lívingston</td>\n",
       "      <td>-89.151105</td>\n",
       "      <td>15.777356</td>\n",
       "    </tr>\n",
       "  </tbody>\n",
       "</table>\n",
       "</div>"
      ],
      "text/plain": [
       "         date  adm2_id ADM2_PCODE  n_pixels     vim  vim_avg       viq  \\\n",
       "0  2002-07-01    65298     GT1802       5.0  0.7442   0.7380  100.7902   \n",
       "1  2002-07-11    65298     GT1802       5.0  0.7446   0.7394  100.6574   \n",
       "2  2002-07-21    65298     GT1802       5.0  0.7452   0.7423  100.3636   \n",
       "3  2002-08-01    65298     GT1802       5.0  0.7461   0.7456  100.0641   \n",
       "4  2002-08-11    65298     GT1802       5.0  0.7476   0.7490   99.8260   \n",
       "\n",
       "  epartamento   municipio        lat        lon  \n",
       "0      Izabal  Lívingston -89.151105  15.777356  \n",
       "1      Izabal  Lívingston -89.151105  15.777356  \n",
       "2      Izabal  Lívingston -89.151105  15.777356  \n",
       "3      Izabal  Lívingston -89.151105  15.777356  \n",
       "4      Izabal  Lívingston -89.151105  15.777356  "
      ]
     },
     "execution_count": 48,
     "metadata": {},
     "output_type": "execute_result"
    }
   ],
   "source": [
    "merged = df.merge(c, \"inner\", on=\"ADM2_PCODE\")\n",
    "merged.head()"
   ]
  },
  {
   "cell_type": "code",
   "execution_count": 59,
   "metadata": {},
   "outputs": [
    {
     "data": {
      "text/html": [
       "<div>\n",
       "<style scoped>\n",
       "    .dataframe tbody tr th:only-of-type {\n",
       "        vertical-align: middle;\n",
       "    }\n",
       "\n",
       "    .dataframe tbody tr th {\n",
       "        vertical-align: top;\n",
       "    }\n",
       "\n",
       "    .dataframe thead th {\n",
       "        text-align: right;\n",
       "    }\n",
       "</style>\n",
       "<table border=\"1\" class=\"dataframe\">\n",
       "  <thead>\n",
       "    <tr style=\"text-align: right;\">\n",
       "      <th></th>\n",
       "      <th>adm2_id</th>\n",
       "      <th>n_pixels</th>\n",
       "      <th>vim</th>\n",
       "      <th>vim_avg</th>\n",
       "      <th>viq</th>\n",
       "      <th>lat</th>\n",
       "      <th>lon</th>\n",
       "    </tr>\n",
       "  </thead>\n",
       "  <tbody>\n",
       "    <tr>\n",
       "      <th>count</th>\n",
       "      <td>247260.000000</td>\n",
       "      <td>247260.000000</td>\n",
       "      <td>247260.000000</td>\n",
       "      <td>247260.000000</td>\n",
       "      <td>247260.000000</td>\n",
       "      <td>247260.000000</td>\n",
       "      <td>247260.000000</td>\n",
       "    </tr>\n",
       "    <tr>\n",
       "      <th>mean</th>\n",
       "      <td>65486.766562</td>\n",
       "      <td>11.470032</td>\n",
       "      <td>0.714613</td>\n",
       "      <td>0.711850</td>\n",
       "      <td>100.406993</td>\n",
       "      <td>-90.825680</td>\n",
       "      <td>14.930007</td>\n",
       "    </tr>\n",
       "    <tr>\n",
       "      <th>std</th>\n",
       "      <td>4840.581411</td>\n",
       "      <td>24.794153</td>\n",
       "      <td>0.112596</td>\n",
       "      <td>0.111838</td>\n",
       "      <td>3.430295</td>\n",
       "      <td>0.802953</td>\n",
       "      <td>0.598018</td>\n",
       "    </tr>\n",
       "    <tr>\n",
       "      <th>min</th>\n",
       "      <td>64843.000000</td>\n",
       "      <td>1.000000</td>\n",
       "      <td>0.247500</td>\n",
       "      <td>0.267600</td>\n",
       "      <td>73.404700</td>\n",
       "      <td>-92.119786</td>\n",
       "      <td>13.910458</td>\n",
       "    </tr>\n",
       "    <tr>\n",
       "      <th>25%</th>\n",
       "      <td>64928.000000</td>\n",
       "      <td>2.000000</td>\n",
       "      <td>0.648700</td>\n",
       "      <td>0.644400</td>\n",
       "      <td>98.814400</td>\n",
       "      <td>-91.533353</td>\n",
       "      <td>14.549615</td>\n",
       "    </tr>\n",
       "    <tr>\n",
       "      <th>50%</th>\n",
       "      <td>65018.000000</td>\n",
       "      <td>5.000000</td>\n",
       "      <td>0.753200</td>\n",
       "      <td>0.749800</td>\n",
       "      <td>100.275400</td>\n",
       "      <td>-90.898669</td>\n",
       "      <td>14.823235</td>\n",
       "    </tr>\n",
       "    <tr>\n",
       "      <th>75%</th>\n",
       "      <td>65098.000000</td>\n",
       "      <td>10.000000</td>\n",
       "      <td>0.801100</td>\n",
       "      <td>0.797800</td>\n",
       "      <td>101.889725</td>\n",
       "      <td>-90.203816</td>\n",
       "      <td>15.197355</td>\n",
       "    </tr>\n",
       "    <tr>\n",
       "      <th>max</th>\n",
       "      <td>115000.000000</td>\n",
       "      <td>275.000000</td>\n",
       "      <td>0.897400</td>\n",
       "      <td>0.869600</td>\n",
       "      <td>132.333500</td>\n",
       "      <td>-88.490611</td>\n",
       "      <td>17.489473</td>\n",
       "    </tr>\n",
       "  </tbody>\n",
       "</table>\n",
       "</div>"
      ],
      "text/plain": [
       "             adm2_id       n_pixels            vim        vim_avg  \\\n",
       "count  247260.000000  247260.000000  247260.000000  247260.000000   \n",
       "mean    65486.766562      11.470032       0.714613       0.711850   \n",
       "std      4840.581411      24.794153       0.112596       0.111838   \n",
       "min     64843.000000       1.000000       0.247500       0.267600   \n",
       "25%     64928.000000       2.000000       0.648700       0.644400   \n",
       "50%     65018.000000       5.000000       0.753200       0.749800   \n",
       "75%     65098.000000      10.000000       0.801100       0.797800   \n",
       "max    115000.000000     275.000000       0.897400       0.869600   \n",
       "\n",
       "                 viq            lat            lon  \n",
       "count  247260.000000  247260.000000  247260.000000  \n",
       "mean      100.406993     -90.825680      14.930007  \n",
       "std         3.430295       0.802953       0.598018  \n",
       "min        73.404700     -92.119786      13.910458  \n",
       "25%        98.814400     -91.533353      14.549615  \n",
       "50%       100.275400     -90.898669      14.823235  \n",
       "75%       101.889725     -90.203816      15.197355  \n",
       "max       132.333500     -88.490611      17.489473  "
      ]
     },
     "execution_count": 59,
     "metadata": {},
     "output_type": "execute_result"
    }
   ],
   "source": [
    "merged.describe()"
   ]
  },
  {
   "cell_type": "code",
   "execution_count": 49,
   "metadata": {},
   "outputs": [
    {
     "data": {
      "text/plain": [
       "((247260, 7), (247260, 11))"
      ]
     },
     "execution_count": 49,
     "metadata": {},
     "output_type": "execute_result"
    }
   ],
   "source": [
    "df.shape, merged.shape"
   ]
  },
  {
   "cell_type": "code",
   "execution_count": 50,
   "metadata": {},
   "outputs": [],
   "source": [
    "merged.to_csv(\"ndvi-completo.csv\")"
   ]
  },
  {
   "cell_type": "code",
   "execution_count": 51,
   "metadata": {},
   "outputs": [],
   "source": [
    "import seaborn as sns "
   ]
  },
  {
   "cell_type": "code",
   "execution_count": 60,
   "metadata": {},
   "outputs": [
    {
     "name": "stderr",
     "output_type": "stream",
     "text": [
      "/var/folders/sg/bv36hz0d5z36h52fqpd37kn80000gn/T/ipykernel_97527/4262659441.py:1: FutureWarning: The default value of numeric_only in DataFrameGroupBy.mean is deprecated. In a future version, numeric_only will default to False. Either specify numeric_only or select only columns which should be valid for the function.\n",
      "  g = merged.groupby(by=\"ADM2_PCODE\").mean()\n"
     ]
    },
    {
     "data": {
      "text/html": [
       "<div>\n",
       "<style scoped>\n",
       "    .dataframe tbody tr th:only-of-type {\n",
       "        vertical-align: middle;\n",
       "    }\n",
       "\n",
       "    .dataframe tbody tr th {\n",
       "        vertical-align: top;\n",
       "    }\n",
       "\n",
       "    .dataframe thead th {\n",
       "        text-align: right;\n",
       "    }\n",
       "</style>\n",
       "<table border=\"1\" class=\"dataframe\">\n",
       "  <thead>\n",
       "    <tr style=\"text-align: right;\">\n",
       "      <th></th>\n",
       "      <th>adm2_id</th>\n",
       "      <th>n_pixels</th>\n",
       "      <th>vim</th>\n",
       "      <th>vim_avg</th>\n",
       "      <th>viq</th>\n",
       "      <th>lat</th>\n",
       "      <th>lon</th>\n",
       "    </tr>\n",
       "    <tr>\n",
       "      <th>ADM2_PCODE</th>\n",
       "      <th></th>\n",
       "      <th></th>\n",
       "      <th></th>\n",
       "      <th></th>\n",
       "      <th></th>\n",
       "      <th></th>\n",
       "      <th></th>\n",
       "    </tr>\n",
       "  </thead>\n",
       "  <tbody>\n",
       "    <tr>\n",
       "      <th>GT0100</th>\n",
       "      <td>65296.0</td>\n",
       "      <td>1.0</td>\n",
       "      <td>0.585042</td>\n",
       "      <td>0.587484</td>\n",
       "      <td>99.628383</td>\n",
       "      <td>-90.548878</td>\n",
       "      <td>14.435029</td>\n",
       "    </tr>\n",
       "    <tr>\n",
       "      <th>GT0101</th>\n",
       "      <td>64843.0</td>\n",
       "      <td>6.0</td>\n",
       "      <td>0.495123</td>\n",
       "      <td>0.496676</td>\n",
       "      <td>99.773380</td>\n",
       "      <td>-90.479418</td>\n",
       "      <td>14.635431</td>\n",
       "    </tr>\n",
       "    <tr>\n",
       "      <th>GT0102</th>\n",
       "      <td>64844.0</td>\n",
       "      <td>2.0</td>\n",
       "      <td>0.649319</td>\n",
       "      <td>0.646884</td>\n",
       "      <td>100.383455</td>\n",
       "      <td>-90.465079</td>\n",
       "      <td>14.564392</td>\n",
       "    </tr>\n",
       "    <tr>\n",
       "      <th>GT0103</th>\n",
       "      <td>64845.0</td>\n",
       "      <td>5.0</td>\n",
       "      <td>0.750327</td>\n",
       "      <td>0.746919</td>\n",
       "      <td>100.447673</td>\n",
       "      <td>-90.346363</td>\n",
       "      <td>14.554316</td>\n",
       "    </tr>\n",
       "    <tr>\n",
       "      <th>GT0104</th>\n",
       "      <td>64846.0</td>\n",
       "      <td>2.0</td>\n",
       "      <td>0.653033</td>\n",
       "      <td>0.651860</td>\n",
       "      <td>100.150563</td>\n",
       "      <td>-90.372463</td>\n",
       "      <td>14.793193</td>\n",
       "    </tr>\n",
       "  </tbody>\n",
       "</table>\n",
       "</div>"
      ],
      "text/plain": [
       "            adm2_id  n_pixels       vim   vim_avg         viq        lat  \\\n",
       "ADM2_PCODE                                                                 \n",
       "GT0100      65296.0       1.0  0.585042  0.587484   99.628383 -90.548878   \n",
       "GT0101      64843.0       6.0  0.495123  0.496676   99.773380 -90.479418   \n",
       "GT0102      64844.0       2.0  0.649319  0.646884  100.383455 -90.465079   \n",
       "GT0103      64845.0       5.0  0.750327  0.746919  100.447673 -90.346363   \n",
       "GT0104      64846.0       2.0  0.653033  0.651860  100.150563 -90.372463   \n",
       "\n",
       "                  lon  \n",
       "ADM2_PCODE             \n",
       "GT0100      14.435029  \n",
       "GT0101      14.635431  \n",
       "GT0102      14.564392  \n",
       "GT0103      14.554316  \n",
       "GT0104      14.793193  "
      ]
     },
     "execution_count": 60,
     "metadata": {},
     "output_type": "execute_result"
    }
   ],
   "source": [
    "g = merged.groupby(by=\"ADM2_PCODE\").mean()\n",
    "g.head()"
   ]
  },
  {
   "cell_type": "code",
   "execution_count": 69,
   "metadata": {},
   "outputs": [
    {
     "data": {
      "text/plain": [
       "<Axes: xlabel='lat', ylabel='lon'>"
      ]
     },
     "execution_count": 69,
     "metadata": {},
     "output_type": "execute_result"
    },
    {
     "data": {
      "image/png": "[encoded data removed]",
      "text/plain": [
       "<Figure size 640x480 with 1 Axes>"
      ]
     },
     "metadata": {},
     "output_type": "display_data"
    }
   ],
   "source": [
    "sns.scatterplot(g, x=\"lat\", y=\"lon\", hue=\"vim\", palette=sns.color_palette(\"Greens\", as_cmap=True))"
   ]
  },
  {
   "cell_type": "code",
   "execution_count": null,
   "metadata": {},
   "outputs": [],
   "source": []
  }
 ],
 "metadata": {
  "kernelspec": {
   "display_name": "mineria",
   "language": "python",
   "name": "python3"
  },
  "language_info": {
   "codemirror_mode": {
    "name": "ipython",
    "version": 3
   },
   "file_extension": ".py",
   "mimetype": "text/x-python",
   "name": "python",
   "nbconvert_exporter": "python",
   "pygments_lexer": "ipython3",
   "version": "3.10.13"
  }
 },
 "nbformat": 4,
 "nbformat_minor": 2
}
