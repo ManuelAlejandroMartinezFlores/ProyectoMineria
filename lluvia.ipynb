{
 "cells": [
  {
   "cell_type": "code",
   "execution_count": 1,
   "metadata": {},
   "outputs": [],
   "source": [
    "import pandas as pd\n",
    "import xarray\n",
    "import numpy as np"
   ]
  },
  {
   "cell_type": "code",
   "execution_count": 2,
   "metadata": {},
   "outputs": [
    {
     "data": {
      "text/html": [
       "<div>\n",
       "<style scoped>\n",
       "    .dataframe tbody tr th:only-of-type {\n",
       "        vertical-align: middle;\n",
       "    }\n",
       "\n",
       "    .dataframe tbody tr th {\n",
       "        vertical-align: top;\n",
       "    }\n",
       "\n",
       "    .dataframe thead th {\n",
       "        text-align: right;\n",
       "    }\n",
       "</style>\n",
       "<table border=\"1\" class=\"dataframe\">\n",
       "  <thead>\n",
       "    <tr style=\"text-align: right;\">\n",
       "      <th></th>\n",
       "      <th>lon</th>\n",
       "      <th>months</th>\n",
       "      <th>lat</th>\n",
       "      <th>rfe</th>\n",
       "    </tr>\n",
       "  </thead>\n",
       "  <tbody>\n",
       "    <tr>\n",
       "      <th>0</th>\n",
       "      <td>-92.474998</td>\n",
       "      <td>252.5</td>\n",
       "      <td>13.525000</td>\n",
       "      <td>0.0</td>\n",
       "    </tr>\n",
       "    <tr>\n",
       "      <th>1</th>\n",
       "      <td>-92.474998</td>\n",
       "      <td>252.5</td>\n",
       "      <td>13.575000</td>\n",
       "      <td>0.0</td>\n",
       "    </tr>\n",
       "    <tr>\n",
       "      <th>2</th>\n",
       "      <td>-92.474998</td>\n",
       "      <td>252.5</td>\n",
       "      <td>13.625000</td>\n",
       "      <td>0.0</td>\n",
       "    </tr>\n",
       "    <tr>\n",
       "      <th>3</th>\n",
       "      <td>-92.474998</td>\n",
       "      <td>252.5</td>\n",
       "      <td>13.674999</td>\n",
       "      <td>0.0</td>\n",
       "    </tr>\n",
       "    <tr>\n",
       "      <th>4</th>\n",
       "      <td>-92.474998</td>\n",
       "      <td>252.5</td>\n",
       "      <td>13.724999</td>\n",
       "      <td>0.0</td>\n",
       "    </tr>\n",
       "  </tbody>\n",
       "</table>\n",
       "</div>"
      ],
      "text/plain": [
       "         lon  months        lat  rfe\n",
       "0 -92.474998   252.5  13.525000  0.0\n",
       "1 -92.474998   252.5  13.575000  0.0\n",
       "2 -92.474998   252.5  13.625000  0.0\n",
       "3 -92.474998   252.5  13.674999  0.0\n",
       "4 -92.474998   252.5  13.724999  0.0"
      ]
     },
     "execution_count": 2,
     "metadata": {},
     "output_type": "execute_result"
    }
   ],
   "source": [
    "arr = xarray.open_dataset(\"rfe.nc\", decode_times=False)\n",
    "lluvia = arr.to_dataframe().reset_index()\n",
    "lluvia.rename(columns={\"T\": \"months\", \"X\": \"lon\", \"Y\": \"lat\"}, inplace=True)\n",
    "lluvia.head()"
   ]
  },
  {
   "cell_type": "code",
   "execution_count": 3,
   "metadata": {},
   "outputs": [],
   "source": [
    "import datetime as dt\n",
    "from dateutil.relativedelta import relativedelta"
   ]
  },
  {
   "cell_type": "code",
   "execution_count": 6,
   "metadata": {},
   "outputs": [],
   "source": [
    "def process_date(months):\n",
    "    return dt.datetime(1960, 1, 1) + relativedelta(months=int(months))\n",
    "\n",
    "lluvia[\"date\"] = lluvia.months.map(process_date)"
   ]
  },
  {
   "cell_type": "code",
   "execution_count": 7,
   "metadata": {},
   "outputs": [
    {
     "data": {
      "text/html": [
       "<div>\n",
       "<style scoped>\n",
       "    .dataframe tbody tr th:only-of-type {\n",
       "        vertical-align: middle;\n",
       "    }\n",
       "\n",
       "    .dataframe tbody tr th {\n",
       "        vertical-align: top;\n",
       "    }\n",
       "\n",
       "    .dataframe thead th {\n",
       "        text-align: right;\n",
       "    }\n",
       "</style>\n",
       "<table border=\"1\" class=\"dataframe\">\n",
       "  <thead>\n",
       "    <tr style=\"text-align: right;\">\n",
       "      <th></th>\n",
       "      <th>lon</th>\n",
       "      <th>months</th>\n",
       "      <th>lat</th>\n",
       "      <th>rfe</th>\n",
       "      <th>date</th>\n",
       "      <th>mes</th>\n",
       "      <th>anio</th>\n",
       "    </tr>\n",
       "  </thead>\n",
       "  <tbody>\n",
       "    <tr>\n",
       "      <th>0</th>\n",
       "      <td>-92.474998</td>\n",
       "      <td>252.5</td>\n",
       "      <td>13.525000</td>\n",
       "      <td>0.0</td>\n",
       "      <td>1981-01-01</td>\n",
       "      <td>1</td>\n",
       "      <td>1981</td>\n",
       "    </tr>\n",
       "    <tr>\n",
       "      <th>1</th>\n",
       "      <td>-92.474998</td>\n",
       "      <td>252.5</td>\n",
       "      <td>13.575000</td>\n",
       "      <td>0.0</td>\n",
       "      <td>1981-01-01</td>\n",
       "      <td>1</td>\n",
       "      <td>1981</td>\n",
       "    </tr>\n",
       "    <tr>\n",
       "      <th>2</th>\n",
       "      <td>-92.474998</td>\n",
       "      <td>252.5</td>\n",
       "      <td>13.625000</td>\n",
       "      <td>0.0</td>\n",
       "      <td>1981-01-01</td>\n",
       "      <td>1</td>\n",
       "      <td>1981</td>\n",
       "    </tr>\n",
       "    <tr>\n",
       "      <th>3</th>\n",
       "      <td>-92.474998</td>\n",
       "      <td>252.5</td>\n",
       "      <td>13.674999</td>\n",
       "      <td>0.0</td>\n",
       "      <td>1981-01-01</td>\n",
       "      <td>1</td>\n",
       "      <td>1981</td>\n",
       "    </tr>\n",
       "    <tr>\n",
       "      <th>4</th>\n",
       "      <td>-92.474998</td>\n",
       "      <td>252.5</td>\n",
       "      <td>13.724999</td>\n",
       "      <td>0.0</td>\n",
       "      <td>1981-01-01</td>\n",
       "      <td>1</td>\n",
       "      <td>1981</td>\n",
       "    </tr>\n",
       "  </tbody>\n",
       "</table>\n",
       "</div>"
      ],
      "text/plain": [
       "         lon  months        lat  rfe       date  mes  anio\n",
       "0 -92.474998   252.5  13.525000  0.0 1981-01-01    1  1981\n",
       "1 -92.474998   252.5  13.575000  0.0 1981-01-01    1  1981\n",
       "2 -92.474998   252.5  13.625000  0.0 1981-01-01    1  1981\n",
       "3 -92.474998   252.5  13.674999  0.0 1981-01-01    1  1981\n",
       "4 -92.474998   252.5  13.724999  0.0 1981-01-01    1  1981"
      ]
     },
     "execution_count": 7,
     "metadata": {},
     "output_type": "execute_result"
    }
   ],
   "source": [
    "lluvia[\"mes\"] = lluvia.date.map(lambda x: x.month)\n",
    "lluvia[\"anio\"] = lluvia.date.map(lambda x: x.year)\n",
    "lluvia.head()"
   ]
  },
  {
   "cell_type": "code",
   "execution_count": 8,
   "metadata": {},
   "outputs": [],
   "source": [
    "lluvia = lluvia[lluvia.anio > 2001]"
   ]
  },
  {
   "cell_type": "code",
   "execution_count": 9,
   "metadata": {},
   "outputs": [
    {
     "data": {
      "text/html": [
       "<div>\n",
       "<style scoped>\n",
       "    .dataframe tbody tr th:only-of-type {\n",
       "        vertical-align: middle;\n",
       "    }\n",
       "\n",
       "    .dataframe tbody tr th {\n",
       "        vertical-align: top;\n",
       "    }\n",
       "\n",
       "    .dataframe thead th {\n",
       "        text-align: right;\n",
       "    }\n",
       "</style>\n",
       "<table border=\"1\" class=\"dataframe\">\n",
       "  <thead>\n",
       "    <tr style=\"text-align: right;\">\n",
       "      <th></th>\n",
       "      <th>date</th>\n",
       "      <th>adm2_id</th>\n",
       "      <th>ADM2_PCODE</th>\n",
       "      <th>n_pixels</th>\n",
       "      <th>vim</th>\n",
       "      <th>vim_avg</th>\n",
       "      <th>viq</th>\n",
       "      <th>mes</th>\n",
       "      <th>anio</th>\n",
       "      <th>dia</th>\n",
       "      <th>departamento</th>\n",
       "      <th>municipio</th>\n",
       "      <th>lon</th>\n",
       "      <th>lat</th>\n",
       "    </tr>\n",
       "  </thead>\n",
       "  <tbody>\n",
       "    <tr>\n",
       "      <th>0</th>\n",
       "      <td>2002-07-01</td>\n",
       "      <td>65298</td>\n",
       "      <td>GT1802</td>\n",
       "      <td>5.0</td>\n",
       "      <td>0.7442</td>\n",
       "      <td>0.7380</td>\n",
       "      <td>100.7902</td>\n",
       "      <td>7</td>\n",
       "      <td>2002</td>\n",
       "      <td>1</td>\n",
       "      <td>Izabal</td>\n",
       "      <td>Lívingston</td>\n",
       "      <td>-89.151105</td>\n",
       "      <td>15.777356</td>\n",
       "    </tr>\n",
       "    <tr>\n",
       "      <th>1</th>\n",
       "      <td>2002-07-11</td>\n",
       "      <td>65298</td>\n",
       "      <td>GT1802</td>\n",
       "      <td>5.0</td>\n",
       "      <td>0.7446</td>\n",
       "      <td>0.7394</td>\n",
       "      <td>100.6574</td>\n",
       "      <td>7</td>\n",
       "      <td>2002</td>\n",
       "      <td>11</td>\n",
       "      <td>Izabal</td>\n",
       "      <td>Lívingston</td>\n",
       "      <td>-89.151105</td>\n",
       "      <td>15.777356</td>\n",
       "    </tr>\n",
       "    <tr>\n",
       "      <th>2</th>\n",
       "      <td>2002-07-21</td>\n",
       "      <td>65298</td>\n",
       "      <td>GT1802</td>\n",
       "      <td>5.0</td>\n",
       "      <td>0.7452</td>\n",
       "      <td>0.7423</td>\n",
       "      <td>100.3636</td>\n",
       "      <td>7</td>\n",
       "      <td>2002</td>\n",
       "      <td>21</td>\n",
       "      <td>Izabal</td>\n",
       "      <td>Lívingston</td>\n",
       "      <td>-89.151105</td>\n",
       "      <td>15.777356</td>\n",
       "    </tr>\n",
       "    <tr>\n",
       "      <th>3</th>\n",
       "      <td>2002-08-01</td>\n",
       "      <td>65298</td>\n",
       "      <td>GT1802</td>\n",
       "      <td>5.0</td>\n",
       "      <td>0.7461</td>\n",
       "      <td>0.7456</td>\n",
       "      <td>100.0641</td>\n",
       "      <td>8</td>\n",
       "      <td>2002</td>\n",
       "      <td>1</td>\n",
       "      <td>Izabal</td>\n",
       "      <td>Lívingston</td>\n",
       "      <td>-89.151105</td>\n",
       "      <td>15.777356</td>\n",
       "    </tr>\n",
       "    <tr>\n",
       "      <th>4</th>\n",
       "      <td>2002-08-11</td>\n",
       "      <td>65298</td>\n",
       "      <td>GT1802</td>\n",
       "      <td>5.0</td>\n",
       "      <td>0.7476</td>\n",
       "      <td>0.7490</td>\n",
       "      <td>99.8260</td>\n",
       "      <td>8</td>\n",
       "      <td>2002</td>\n",
       "      <td>11</td>\n",
       "      <td>Izabal</td>\n",
       "      <td>Lívingston</td>\n",
       "      <td>-89.151105</td>\n",
       "      <td>15.777356</td>\n",
       "    </tr>\n",
       "  </tbody>\n",
       "</table>\n",
       "</div>"
      ],
      "text/plain": [
       "         date  adm2_id ADM2_PCODE  n_pixels     vim  vim_avg       viq  mes  \\\n",
       "0  2002-07-01    65298     GT1802       5.0  0.7442   0.7380  100.7902    7   \n",
       "1  2002-07-11    65298     GT1802       5.0  0.7446   0.7394  100.6574    7   \n",
       "2  2002-07-21    65298     GT1802       5.0  0.7452   0.7423  100.3636    7   \n",
       "3  2002-08-01    65298     GT1802       5.0  0.7461   0.7456  100.0641    8   \n",
       "4  2002-08-11    65298     GT1802       5.0  0.7476   0.7490   99.8260    8   \n",
       "\n",
       "   anio  dia departamento   municipio        lon        lat  \n",
       "0  2002    1       Izabal  Lívingston -89.151105  15.777356  \n",
       "1  2002   11       Izabal  Lívingston -89.151105  15.777356  \n",
       "2  2002   21       Izabal  Lívingston -89.151105  15.777356  \n",
       "3  2002    1       Izabal  Lívingston -89.151105  15.777356  \n",
       "4  2002   11       Izabal  Lívingston -89.151105  15.777356  "
      ]
     },
     "execution_count": 9,
     "metadata": {},
     "output_type": "execute_result"
    }
   ],
   "source": [
    "df = pd.read_csv(\"ndvi-completo.csv\")\n",
    "df.head()"
   ]
  },
  {
   "cell_type": "code",
   "execution_count": 10,
   "metadata": {},
   "outputs": [
    {
     "name": "stderr",
     "output_type": "stream",
     "text": [
      "/var/folders/sg/bv36hz0d5z36h52fqpd37kn80000gn/T/ipykernel_30164/2513677182.py:1: FutureWarning: The default value of numeric_only in DataFrameGroupBy.mean is deprecated. In a future version, numeric_only will default to False. Either specify numeric_only or select only columns which should be valid for the function.\n",
      "  df = df.groupby(\"ADM2_PCODE\").mean().reset_index()[[\"ADM2_PCODE\", \"lat\", \"lon\"]]\n"
     ]
    },
    {
     "data": {
      "text/html": [
       "<div>\n",
       "<style scoped>\n",
       "    .dataframe tbody tr th:only-of-type {\n",
       "        vertical-align: middle;\n",
       "    }\n",
       "\n",
       "    .dataframe tbody tr th {\n",
       "        vertical-align: top;\n",
       "    }\n",
       "\n",
       "    .dataframe thead th {\n",
       "        text-align: right;\n",
       "    }\n",
       "</style>\n",
       "<table border=\"1\" class=\"dataframe\">\n",
       "  <thead>\n",
       "    <tr style=\"text-align: right;\">\n",
       "      <th></th>\n",
       "      <th>ADM2_PCODE</th>\n",
       "      <th>lat</th>\n",
       "      <th>lon</th>\n",
       "    </tr>\n",
       "  </thead>\n",
       "  <tbody>\n",
       "    <tr>\n",
       "      <th>0</th>\n",
       "      <td>GT0100</td>\n",
       "      <td>14.435029</td>\n",
       "      <td>-90.548878</td>\n",
       "    </tr>\n",
       "    <tr>\n",
       "      <th>1</th>\n",
       "      <td>GT0101</td>\n",
       "      <td>14.635431</td>\n",
       "      <td>-90.479418</td>\n",
       "    </tr>\n",
       "    <tr>\n",
       "      <th>2</th>\n",
       "      <td>GT0102</td>\n",
       "      <td>14.564392</td>\n",
       "      <td>-90.465079</td>\n",
       "    </tr>\n",
       "    <tr>\n",
       "      <th>3</th>\n",
       "      <td>GT0103</td>\n",
       "      <td>14.554316</td>\n",
       "      <td>-90.346363</td>\n",
       "    </tr>\n",
       "    <tr>\n",
       "      <th>4</th>\n",
       "      <td>GT0104</td>\n",
       "      <td>14.793193</td>\n",
       "      <td>-90.372463</td>\n",
       "    </tr>\n",
       "  </tbody>\n",
       "</table>\n",
       "</div>"
      ],
      "text/plain": [
       "  ADM2_PCODE        lat        lon\n",
       "0     GT0100  14.435029 -90.548878\n",
       "1     GT0101  14.635431 -90.479418\n",
       "2     GT0102  14.564392 -90.465079\n",
       "3     GT0103  14.554316 -90.346363\n",
       "4     GT0104  14.793193 -90.372463"
      ]
     },
     "execution_count": 10,
     "metadata": {},
     "output_type": "execute_result"
    }
   ],
   "source": [
    "df = df.groupby(\"ADM2_PCODE\").mean().reset_index()[[\"ADM2_PCODE\", \"lat\", \"lon\"]]\n",
    "df.head()"
   ]
  },
  {
   "cell_type": "code",
   "execution_count": 11,
   "metadata": {},
   "outputs": [
    {
     "data": {
      "text/html": [
       "<div>\n",
       "<style scoped>\n",
       "    .dataframe tbody tr th:only-of-type {\n",
       "        vertical-align: middle;\n",
       "    }\n",
       "\n",
       "    .dataframe tbody tr th {\n",
       "        vertical-align: top;\n",
       "    }\n",
       "\n",
       "    .dataframe thead th {\n",
       "        text-align: right;\n",
       "    }\n",
       "</style>\n",
       "<table border=\"1\" class=\"dataframe\">\n",
       "  <thead>\n",
       "    <tr style=\"text-align: right;\">\n",
       "      <th></th>\n",
       "      <th>lon</th>\n",
       "      <th>lat</th>\n",
       "      <th>lluvia_code</th>\n",
       "    </tr>\n",
       "  </thead>\n",
       "  <tbody>\n",
       "    <tr>\n",
       "      <th>25200</th>\n",
       "      <td>-92.474998</td>\n",
       "      <td>13.525000</td>\n",
       "      <td>0</td>\n",
       "    </tr>\n",
       "    <tr>\n",
       "      <th>25201</th>\n",
       "      <td>-92.474998</td>\n",
       "      <td>13.575000</td>\n",
       "      <td>1</td>\n",
       "    </tr>\n",
       "    <tr>\n",
       "      <th>25202</th>\n",
       "      <td>-92.474998</td>\n",
       "      <td>13.625000</td>\n",
       "      <td>2</td>\n",
       "    </tr>\n",
       "    <tr>\n",
       "      <th>25203</th>\n",
       "      <td>-92.474998</td>\n",
       "      <td>13.674999</td>\n",
       "      <td>3</td>\n",
       "    </tr>\n",
       "    <tr>\n",
       "      <th>25204</th>\n",
       "      <td>-92.474998</td>\n",
       "      <td>13.724999</td>\n",
       "      <td>4</td>\n",
       "    </tr>\n",
       "  </tbody>\n",
       "</table>\n",
       "</div>"
      ],
      "text/plain": [
       "             lon        lat  lluvia_code\n",
       "25200 -92.474998  13.525000            0\n",
       "25201 -92.474998  13.575000            1\n",
       "25202 -92.474998  13.625000            2\n",
       "25203 -92.474998  13.674999            3\n",
       "25204 -92.474998  13.724999            4"
      ]
     },
     "execution_count": 11,
     "metadata": {},
     "output_type": "execute_result"
    }
   ],
   "source": [
    "coord = lluvia[[\"lon\", \"lat\"]].drop_duplicates()\n",
    "coord[\"lluvia_code\"] = range(len(coord))\n",
    "coord.head()"
   ]
  },
  {
   "cell_type": "code",
   "execution_count": 12,
   "metadata": {},
   "outputs": [
    {
     "data": {
      "text/plain": [
       "(9000, 3)"
      ]
     },
     "execution_count": 12,
     "metadata": {},
     "output_type": "execute_result"
    }
   ],
   "source": [
    "coord.shape"
   ]
  },
  {
   "cell_type": "code",
   "execution_count": 13,
   "metadata": {},
   "outputs": [
    {
     "data": {
      "text/html": [
       "<div>\n",
       "<style scoped>\n",
       "    .dataframe tbody tr th:only-of-type {\n",
       "        vertical-align: middle;\n",
       "    }\n",
       "\n",
       "    .dataframe tbody tr th {\n",
       "        vertical-align: top;\n",
       "    }\n",
       "\n",
       "    .dataframe thead th {\n",
       "        text-align: right;\n",
       "    }\n",
       "</style>\n",
       "<table border=\"1\" class=\"dataframe\">\n",
       "  <thead>\n",
       "    <tr style=\"text-align: right;\">\n",
       "      <th></th>\n",
       "      <th>ADM2_PCODE</th>\n",
       "      <th>lat</th>\n",
       "      <th>lon</th>\n",
       "      <th>lluvia_code</th>\n",
       "    </tr>\n",
       "  </thead>\n",
       "  <tbody>\n",
       "    <tr>\n",
       "      <th>0</th>\n",
       "      <td>GT0100</td>\n",
       "      <td>14.435029</td>\n",
       "      <td>-90.548878</td>\n",
       "      <td>3918</td>\n",
       "    </tr>\n",
       "    <tr>\n",
       "      <th>1</th>\n",
       "      <td>GT0101</td>\n",
       "      <td>14.635431</td>\n",
       "      <td>-90.479418</td>\n",
       "      <td>4022</td>\n",
       "    </tr>\n",
       "    <tr>\n",
       "      <th>2</th>\n",
       "      <td>GT0102</td>\n",
       "      <td>14.564392</td>\n",
       "      <td>-90.465079</td>\n",
       "      <td>4021</td>\n",
       "    </tr>\n",
       "    <tr>\n",
       "      <th>3</th>\n",
       "      <td>GT0103</td>\n",
       "      <td>14.554316</td>\n",
       "      <td>-90.346363</td>\n",
       "      <td>4321</td>\n",
       "    </tr>\n",
       "    <tr>\n",
       "      <th>4</th>\n",
       "      <td>GT0104</td>\n",
       "      <td>14.793193</td>\n",
       "      <td>-90.372463</td>\n",
       "      <td>4225</td>\n",
       "    </tr>\n",
       "  </tbody>\n",
       "</table>\n",
       "</div>"
      ],
      "text/plain": [
       "  ADM2_PCODE        lat        lon  lluvia_code\n",
       "0     GT0100  14.435029 -90.548878         3918\n",
       "1     GT0101  14.635431 -90.479418         4022\n",
       "2     GT0102  14.564392 -90.465079         4021\n",
       "3     GT0103  14.554316 -90.346363         4321\n",
       "4     GT0104  14.793193 -90.372463         4225"
      ]
     },
     "execution_count": 13,
     "metadata": {},
     "output_type": "execute_result"
    }
   ],
   "source": [
    "def lluvia_code(row):\n",
    "    dist = np.sqrt((coord.lon - row.lon)**2 + (coord.lat - row.lat)**2)\n",
    "    return int(coord.iloc[dist.argmin()][\"lluvia_code\"])\n",
    "\n",
    "\n",
    "df[\"lluvia_code\"] = df.apply(lluvia_code, axis=1)\n",
    "df.head()"
   ]
  },
  {
   "cell_type": "code",
   "execution_count": 14,
   "metadata": {},
   "outputs": [
    {
     "data": {
      "text/plain": [
       "313"
      ]
     },
     "execution_count": 14,
     "metadata": {},
     "output_type": "execute_result"
    }
   ],
   "source": [
    "df.lluvia_code.nunique()"
   ]
  },
  {
   "cell_type": "code",
   "execution_count": 15,
   "metadata": {},
   "outputs": [],
   "source": [
    "lluvia = lluvia.merge(coord, \"left\", on=[\"lat\", \"lon\"])"
   ]
  },
  {
   "cell_type": "code",
   "execution_count": 16,
   "metadata": {},
   "outputs": [
    {
     "data": {
      "text/plain": [
       "(2385000, 8)"
      ]
     },
     "execution_count": 16,
     "metadata": {},
     "output_type": "execute_result"
    }
   ],
   "source": [
    "lluvia.shape"
   ]
  },
  {
   "cell_type": "code",
   "execution_count": 17,
   "metadata": {},
   "outputs": [
    {
     "data": {
      "text/plain": [
       "(247260, 14)"
      ]
     },
     "execution_count": 17,
     "metadata": {},
     "output_type": "execute_result"
    }
   ],
   "source": [
    "ndvi = pd.read_csv(\"ndvi-completo.csv\")\n",
    "ndvi.shape"
   ]
  },
  {
   "cell_type": "code",
   "execution_count": 18,
   "metadata": {},
   "outputs": [
    {
     "data": {
      "text/html": [
       "<div>\n",
       "<style scoped>\n",
       "    .dataframe tbody tr th:only-of-type {\n",
       "        vertical-align: middle;\n",
       "    }\n",
       "\n",
       "    .dataframe tbody tr th {\n",
       "        vertical-align: top;\n",
       "    }\n",
       "\n",
       "    .dataframe thead th {\n",
       "        text-align: right;\n",
       "    }\n",
       "</style>\n",
       "<table border=\"1\" class=\"dataframe\">\n",
       "  <thead>\n",
       "    <tr style=\"text-align: right;\">\n",
       "      <th></th>\n",
       "      <th>date</th>\n",
       "      <th>adm2_id</th>\n",
       "      <th>ADM2_PCODE</th>\n",
       "      <th>n_pixels</th>\n",
       "      <th>vim</th>\n",
       "      <th>vim_avg</th>\n",
       "      <th>viq</th>\n",
       "      <th>mes</th>\n",
       "      <th>anio</th>\n",
       "      <th>dia</th>\n",
       "      <th>departamento</th>\n",
       "      <th>municipio</th>\n",
       "      <th>lon</th>\n",
       "      <th>lat</th>\n",
       "      <th>lluvia_code</th>\n",
       "    </tr>\n",
       "  </thead>\n",
       "  <tbody>\n",
       "    <tr>\n",
       "      <th>0</th>\n",
       "      <td>2002-07-01</td>\n",
       "      <td>65298</td>\n",
       "      <td>GT1802</td>\n",
       "      <td>5.0</td>\n",
       "      <td>0.7442</td>\n",
       "      <td>0.7380</td>\n",
       "      <td>100.7902</td>\n",
       "      <td>7</td>\n",
       "      <td>2002</td>\n",
       "      <td>1</td>\n",
       "      <td>Izabal</td>\n",
       "      <td>Lívingston</td>\n",
       "      <td>-89.151105</td>\n",
       "      <td>15.777356</td>\n",
       "      <td>6645</td>\n",
       "    </tr>\n",
       "    <tr>\n",
       "      <th>1</th>\n",
       "      <td>2002-07-11</td>\n",
       "      <td>65298</td>\n",
       "      <td>GT1802</td>\n",
       "      <td>5.0</td>\n",
       "      <td>0.7446</td>\n",
       "      <td>0.7394</td>\n",
       "      <td>100.6574</td>\n",
       "      <td>7</td>\n",
       "      <td>2002</td>\n",
       "      <td>11</td>\n",
       "      <td>Izabal</td>\n",
       "      <td>Lívingston</td>\n",
       "      <td>-89.151105</td>\n",
       "      <td>15.777356</td>\n",
       "      <td>6645</td>\n",
       "    </tr>\n",
       "    <tr>\n",
       "      <th>2</th>\n",
       "      <td>2002-07-21</td>\n",
       "      <td>65298</td>\n",
       "      <td>GT1802</td>\n",
       "      <td>5.0</td>\n",
       "      <td>0.7452</td>\n",
       "      <td>0.7423</td>\n",
       "      <td>100.3636</td>\n",
       "      <td>7</td>\n",
       "      <td>2002</td>\n",
       "      <td>21</td>\n",
       "      <td>Izabal</td>\n",
       "      <td>Lívingston</td>\n",
       "      <td>-89.151105</td>\n",
       "      <td>15.777356</td>\n",
       "      <td>6645</td>\n",
       "    </tr>\n",
       "    <tr>\n",
       "      <th>3</th>\n",
       "      <td>2002-08-01</td>\n",
       "      <td>65298</td>\n",
       "      <td>GT1802</td>\n",
       "      <td>5.0</td>\n",
       "      <td>0.7461</td>\n",
       "      <td>0.7456</td>\n",
       "      <td>100.0641</td>\n",
       "      <td>8</td>\n",
       "      <td>2002</td>\n",
       "      <td>1</td>\n",
       "      <td>Izabal</td>\n",
       "      <td>Lívingston</td>\n",
       "      <td>-89.151105</td>\n",
       "      <td>15.777356</td>\n",
       "      <td>6645</td>\n",
       "    </tr>\n",
       "    <tr>\n",
       "      <th>4</th>\n",
       "      <td>2002-08-11</td>\n",
       "      <td>65298</td>\n",
       "      <td>GT1802</td>\n",
       "      <td>5.0</td>\n",
       "      <td>0.7476</td>\n",
       "      <td>0.7490</td>\n",
       "      <td>99.8260</td>\n",
       "      <td>8</td>\n",
       "      <td>2002</td>\n",
       "      <td>11</td>\n",
       "      <td>Izabal</td>\n",
       "      <td>Lívingston</td>\n",
       "      <td>-89.151105</td>\n",
       "      <td>15.777356</td>\n",
       "      <td>6645</td>\n",
       "    </tr>\n",
       "  </tbody>\n",
       "</table>\n",
       "</div>"
      ],
      "text/plain": [
       "         date  adm2_id ADM2_PCODE  n_pixels     vim  vim_avg       viq  mes  \\\n",
       "0  2002-07-01    65298     GT1802       5.0  0.7442   0.7380  100.7902    7   \n",
       "1  2002-07-11    65298     GT1802       5.0  0.7446   0.7394  100.6574    7   \n",
       "2  2002-07-21    65298     GT1802       5.0  0.7452   0.7423  100.3636    7   \n",
       "3  2002-08-01    65298     GT1802       5.0  0.7461   0.7456  100.0641    8   \n",
       "4  2002-08-11    65298     GT1802       5.0  0.7476   0.7490   99.8260    8   \n",
       "\n",
       "   anio  dia departamento   municipio        lon        lat  lluvia_code  \n",
       "0  2002    1       Izabal  Lívingston -89.151105  15.777356         6645  \n",
       "1  2002   11       Izabal  Lívingston -89.151105  15.777356         6645  \n",
       "2  2002   21       Izabal  Lívingston -89.151105  15.777356         6645  \n",
       "3  2002    1       Izabal  Lívingston -89.151105  15.777356         6645  \n",
       "4  2002   11       Izabal  Lívingston -89.151105  15.777356         6645  "
      ]
     },
     "execution_count": 18,
     "metadata": {},
     "output_type": "execute_result"
    }
   ],
   "source": [
    "ndvi = ndvi.merge(df[[\"ADM2_PCODE\", \"lluvia_code\"]], \"left\", on=\"ADM2_PCODE\")\n",
    "ndvi.head()"
   ]
  },
  {
   "cell_type": "code",
   "execution_count": 19,
   "metadata": {},
   "outputs": [
    {
     "data": {
      "text/plain": [
       "(247260, 15)"
      ]
     },
     "execution_count": 19,
     "metadata": {},
     "output_type": "execute_result"
    }
   ],
   "source": [
    "ndvi.shape"
   ]
  },
  {
   "cell_type": "code",
   "execution_count": 20,
   "metadata": {},
   "outputs": [],
   "source": [
    "ndvi = ndvi.merge(lluvia[[\"lluvia_code\", \"mes\", \"anio\", \"rfe\"]], \"left\", on=[\"lluvia_code\", \"mes\", \"anio\"])"
   ]
  },
  {
   "cell_type": "code",
   "execution_count": 21,
   "metadata": {},
   "outputs": [],
   "source": [
    "ndvi.rename(columns={\"rfe\": \"precipitacion\"}, inplace=True)"
   ]
  },
  {
   "cell_type": "code",
   "execution_count": 22,
   "metadata": {},
   "outputs": [],
   "source": [
    "ndvi = ndvi[ndvi.anio <= 2023]\n",
    "ndvi.to_csv(\"ndvi-lluvia.csv\", index=False)"
   ]
  },
  {
   "cell_type": "code",
   "execution_count": null,
   "metadata": {},
   "outputs": [],
   "source": []
  }
 ],
 "metadata": {
  "kernelspec": {
   "display_name": "mineria",
   "language": "python",
   "name": "python3"
  },
  "language_info": {
   "codemirror_mode": {
    "name": "ipython",
    "version": 3
   },
   "file_extension": ".py",
   "mimetype": "text/x-python",
   "name": "python",
   "nbconvert_exporter": "python",
   "pygments_lexer": "ipython3",
   "version": "3.10.13"
  }
 },
 "nbformat": 4,
 "nbformat_minor": 2
}
